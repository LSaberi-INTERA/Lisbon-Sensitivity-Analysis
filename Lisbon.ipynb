{
 "cells": [
  {
   "cell_type": "code",
   "execution_count": 4,
   "id": "f125e17a",
   "metadata": {},
   "outputs": [],
   "source": [
    "import pandas as pd\n",
    "import numpy as np\n",
    "import flopy\n",
    "import flopy.utils.binaryfile as bf\n",
    "import matplotlib.pyplot as plt\n",
    "import pyemu\n",
    "import os\n",
    "import shutil\n",
    "import flopy.utils.binaryfile as bf\n",
    "import warnings\n",
    "warnings.filterwarnings('ignore')"
   ]
  },
  {
   "cell_type": "code",
   "execution_count": 5,
   "id": "37104114",
   "metadata": {},
   "outputs": [
    {
     "data": {
      "text/plain": [
       "['l210621ssh_S1_IH.dat',\n",
       " 'sa00_flow.ato',\n",
       " 'sa00_flow.bas',\n",
       " 'sa00_flow.bcf',\n",
       " 'sa00_flow.btn',\n",
       " 'sa00_flow.cbb',\n",
       " 'sa00_flow.con',\n",
       " 'sa00_flow.cw5',\n",
       " 'sa00_flow.ddn',\n",
       " 'sa00_flow.disrw',\n",
       " 'sa00_flow.drn',\n",
       " 'sa00_flow.hcn',\n",
       " 'sa00_flow.hds',\n",
       " 'sa00_flow.hfb',\n",
       " 'sa00_flow.mfw',\n",
       " 'sa00_flow.nam',\n",
       " 'sa00_flow.oc',\n",
       " 'sa00_flow.out',\n",
       " 'sa00_flow.pcn',\n",
       " 'sa00_flow.pg5',\n",
       " 'sa00_flow.rch',\n",
       " 'sa00_flow.wel',\n",
       " 'sa00_flow.wl5',\n",
       " 'sa00_flow_gwv7.gwv']"
      ]
     },
     "execution_count": 5,
     "metadata": {},
     "output_type": "execute_result"
    }
   ],
   "source": [
    "model_ws = os.path.join(\"LisbonFiles\")\n",
    "os.listdir(model_ws)"
   ]
  },
  {
   "cell_type": "code",
   "execution_count": 14,
   "id": "960d7a88",
   "metadata": {},
   "outputs": [],
   "source": [
    "m = flopy.modflow.Modflow.load(\"sa00_flow.nam\",model_ws=model_ws,verbose=True)\n"
   ]
  },
  {
   "cell_type": "code",
   "execution_count": 9,
   "id": "b0c5ade3",
   "metadata": {},
   "outputs": [
    {
     "ename": "NameError",
     "evalue": "name 'm' is not defined",
     "output_type": "error",
     "traceback": [
      "\u001b[1;31m---------------------------------------------------------------------------\u001b[0m",
      "\u001b[1;31mNameError\u001b[0m                                 Traceback (most recent call last)",
      "\u001b[1;32m~\\AppData\\Local\\Temp/ipykernel_20144/1497821502.py\u001b[0m in \u001b[0;36m<module>\u001b[1;34m\u001b[0m\n\u001b[1;32m----> 1\u001b[1;33m \u001b[0mm\u001b[0m\u001b[1;33m\u001b[0m\u001b[1;33m\u001b[0m\u001b[0m\n\u001b[0m",
      "\u001b[1;31mNameError\u001b[0m: name 'm' is not defined"
     ]
    }
   ],
   "source": [
    "m"
   ]
  },
  {
   "cell_type": "code",
   "execution_count": 7,
   "id": "abe9d354",
   "metadata": {},
   "outputs": [
    {
     "data": {
      "text/html": [
       "<div>\n",
       "<style scoped>\n",
       "    .dataframe tbody tr th:only-of-type {\n",
       "        vertical-align: middle;\n",
       "    }\n",
       "\n",
       "    .dataframe tbody tr th {\n",
       "        vertical-align: top;\n",
       "    }\n",
       "\n",
       "    .dataframe thead th {\n",
       "        text-align: right;\n",
       "    }\n",
       "</style>\n",
       "<table border=\"1\" class=\"dataframe\">\n",
       "  <thead>\n",
       "    <tr style=\"text-align: right;\">\n",
       "      <th></th>\n",
       "      <th>Lisbon MF6 Model</th>\n",
       "    </tr>\n",
       "  </thead>\n",
       "  <tbody>\n",
       "    <tr>\n",
       "      <th>0</th>\n",
       "      <td>2021</td>\n",
       "    </tr>\n",
       "    <tr>\n",
       "      <th>1</th>\n",
       "      <td>12       279       229        32         4         0         0         0         1</td>\n",
       "    </tr>\n",
       "    <tr>\n",
       "      <th>2</th>\n",
       "      <td>11 16 12  0  0  0  0 13  0  0  0 22  0  0  0 17  0  0  0  0  0 18  0  0  0  0  0  0  0  0  0  0...</td>\n",
       "    </tr>\n",
       "    <tr>\n",
       "      <th>3</th>\n",
       "      <td>1         1</td>\n",
       "    </tr>\n",
       "    <tr>\n",
       "      <th>4</th>\n",
       "      <td>1         1(25I3)                      -1</td>\n",
       "    </tr>\n",
       "    <tr>\n",
       "      <th>...</th>\n",
       "      <td>...</td>\n",
       "    </tr>\n",
       "    <tr>\n",
       "      <th>110540</th>\n",
       "      <td>365.000000         1    1.1000</td>\n",
       "    </tr>\n",
       "    <tr>\n",
       "      <th>110541</th>\n",
       "      <td>366.000000         1    1.1000</td>\n",
       "    </tr>\n",
       "    <tr>\n",
       "      <th>110542</th>\n",
       "      <td>365.000000         1    1.1000</td>\n",
       "    </tr>\n",
       "    <tr>\n",
       "      <th>110543</th>\n",
       "      <td>365.000000         1    1.1000</td>\n",
       "    </tr>\n",
       "    <tr>\n",
       "      <th>110544</th>\n",
       "      <td>365.000000         1    1.1000</td>\n",
       "    </tr>\n",
       "  </tbody>\n",
       "</table>\n",
       "<p>110545 rows × 1 columns</p>\n",
       "</div>"
      ],
      "text/plain": [
       "                                                                                           Lisbon MF6 Model\n",
       "0                                                                                                      2021\n",
       "1                        12       279       229        32         4         0         0         0         1\n",
       "2        11 16 12  0  0  0  0 13  0  0  0 22  0  0  0 17  0  0  0  0  0 18  0  0  0  0  0  0  0  0  0  0...\n",
       "3                                                                                               1         1\n",
       "4                                                                 1         1(25I3)                      -1\n",
       "...                                                                                                     ...\n",
       "110540                                                                       365.000000         1    1.1000\n",
       "110541                                                                       366.000000         1    1.1000\n",
       "110542                                                                       365.000000         1    1.1000\n",
       "110543                                                                       365.000000         1    1.1000\n",
       "110544                                                                       365.000000         1    1.1000\n",
       "\n",
       "[110545 rows x 1 columns]"
      ]
     },
     "execution_count": 7,
     "metadata": {},
     "output_type": "execute_result"
    }
   ],
   "source": [
    "dis  = pd.read_csv('LisbonFiles/sa00_flow.bas')\n",
    "dis"
   ]
  },
  {
   "cell_type": "code",
   "execution_count": null,
   "id": "05043b5c",
   "metadata": {},
   "outputs": [],
   "source": []
  }
 ],
 "metadata": {
  "kernelspec": {
   "display_name": "Python 3 (ipykernel)",
   "language": "python",
   "name": "python3"
  },
  "language_info": {
   "codemirror_mode": {
    "name": "ipython",
    "version": 3
   },
   "file_extension": ".py",
   "mimetype": "text/x-python",
   "name": "python",
   "nbconvert_exporter": "python",
   "pygments_lexer": "ipython3",
   "version": "3.8.8"
  }
 },
 "nbformat": 4,
 "nbformat_minor": 5
}
